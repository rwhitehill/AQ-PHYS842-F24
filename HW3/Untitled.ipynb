{
 "cells": [
  {
   "cell_type": "code",
   "execution_count": 1,
   "id": "7223a3b0-bb7a-4327-8d8b-60a30dffe353",
   "metadata": {},
   "outputs": [],
   "source": [
    "import sympy as sp"
   ]
  },
  {
   "cell_type": "code",
   "execution_count": 12,
   "id": "e76b563c-fb34-42ce-be53-e8232b50a5d8",
   "metadata": {},
   "outputs": [
    {
     "data": {
      "text/latex": [
       "$\\displaystyle 2 B_{x}^{2} + 2 B_{y}^{2} + 2 B_{z}^{2} - 2 E_{x}^{2} - 2 E_{y}^{2} - 2 E_{z}^{2}$"
      ],
      "text/plain": [
       "2*B_x**2 + 2*B_y**2 + 2*B_z**2 - 2*E_x**2 - 2*E_y**2 - 2*E_z**2"
      ]
     },
     "execution_count": 12,
     "metadata": {},
     "output_type": "execute_result"
    }
   ],
   "source": [
    "Ex,Ey,Ez = sp.symbols('E_x E_y E_z')\n",
    "Bx,By,Bz = sp.symbols('B_x B_y B_z')\n",
    "\n",
    "Fmn = sp.Matrix([\n",
    "    [0,-Ex,-Ey,-Ez],\n",
    "    [Ex,0,-Bz,By],\n",
    "    [Ey,Bz,0,-Bx],\n",
    "    [Ez,-By,Bx,0]\n",
    "])\n",
    "F_mn = sp.Matrix([\n",
    "    [0,Ex,Ey,Ez],\n",
    "    [-Ex,0,-Bz,By],\n",
    "    [-Ey,Bz,0,-Bx],\n",
    "    [-Ez,-By,Bx,0]\n",
    "])\n",
    "\n",
    "g_mn = sp.Matrix([\n",
    "    [1,0,0,0],\n",
    "    [0,-1,0,0],\n",
    "    [0,0,-1,0],\n",
    "    [0,0,0,-1]\n",
    "])\n",
    "\n",
    "FmnF_mn = sum([sum([Fmn[i,j]*F_mn[i,j] for i in range(4)]) for j in range(4)])\n",
    "FmnF_mn"
   ]
  },
  {
   "cell_type": "code",
   "execution_count": 17,
   "id": "d56afe77-a05c-4e15-8944-b8101ccf06af",
   "metadata": {},
   "outputs": [
    {
     "data": {
      "text/latex": [
       "$\\displaystyle \\left[\\begin{matrix}\\frac{B_{x}^{2}}{2} + \\frac{B_{y}^{2}}{2} + \\frac{B_{z}^{2}}{2} + \\frac{E_{x}^{2}}{2} + \\frac{E_{y}^{2}}{2} + \\frac{E_{z}^{2}}{2} & - B_{y} E_{z} + B_{z} E_{y} & B_{x} E_{z} - B_{z} E_{x} & - B_{x} E_{y} + B_{y} E_{x}\\\\- B_{y} E_{z} + B_{z} E_{y} & - \\frac{B_{x}^{2}}{2} + \\frac{B_{y}^{2}}{2} + \\frac{B_{z}^{2}}{2} - \\frac{E_{x}^{2}}{2} + \\frac{E_{y}^{2}}{2} + \\frac{E_{z}^{2}}{2} & - B_{x} B_{y} - E_{x} E_{y} & - B_{x} B_{z} - E_{x} E_{z}\\\\B_{x} E_{z} - B_{z} E_{x} & - B_{x} B_{y} - E_{x} E_{y} & \\frac{B_{x}^{2}}{2} - \\frac{B_{y}^{2}}{2} + \\frac{B_{z}^{2}}{2} + \\frac{E_{x}^{2}}{2} - \\frac{E_{y}^{2}}{2} + \\frac{E_{z}^{2}}{2} & - B_{y} B_{z} - E_{y} E_{z}\\\\- B_{x} E_{y} + B_{y} E_{x} & - B_{x} B_{z} - E_{x} E_{z} & - B_{y} B_{z} - E_{y} E_{z} & \\frac{B_{x}^{2}}{2} + \\frac{B_{y}^{2}}{2} - \\frac{B_{z}^{2}}{2} + \\frac{E_{x}^{2}}{2} + \\frac{E_{y}^{2}}{2} - \\frac{E_{z}^{2}}{2}\\end{matrix}\\right]$"
      ],
      "text/plain": [
       "Matrix([\n",
       "[B_x**2/2 + B_y**2/2 + B_z**2/2 + E_x**2/2 + E_y**2/2 + E_z**2/2,                                               -B_y*E_z + B_z*E_y,                                               B_x*E_z - B_z*E_x,                                              -B_x*E_y + B_y*E_x],\n",
       "[                                             -B_y*E_z + B_z*E_y, -B_x**2/2 + B_y**2/2 + B_z**2/2 - E_x**2/2 + E_y**2/2 + E_z**2/2,                                              -B_x*B_y - E_x*E_y,                                              -B_x*B_z - E_x*E_z],\n",
       "[                                              B_x*E_z - B_z*E_x,                                               -B_x*B_y - E_x*E_y, B_x**2/2 - B_y**2/2 + B_z**2/2 + E_x**2/2 - E_y**2/2 + E_z**2/2,                                              -B_y*B_z - E_y*E_z],\n",
       "[                                             -B_x*E_y + B_y*E_x,                                               -B_x*B_z - E_x*E_z,                                              -B_y*B_z - E_y*E_z, B_x**2/2 + B_y**2/2 - B_z**2/2 + E_x**2/2 + E_y**2/2 - E_z**2/2]])"
      ]
     },
     "execution_count": 17,
     "metadata": {},
     "output_type": "execute_result"
    }
   ],
   "source": [
    "Fmn*g_mn*Fmn + g_mn*FmnF_mn/4"
   ]
  },
  {
   "cell_type": "code",
   "execution_count": null,
   "id": "4df4bb41-152e-4238-a9bf-a8635d74c2ec",
   "metadata": {},
   "outputs": [],
   "source": []
  }
 ],
 "metadata": {
  "kernelspec": {
   "display_name": "Python 3 (ipykernel)",
   "language": "python",
   "name": "python3"
  },
  "language_info": {
   "codemirror_mode": {
    "name": "ipython",
    "version": 3
   },
   "file_extension": ".py",
   "mimetype": "text/x-python",
   "name": "python",
   "nbconvert_exporter": "python",
   "pygments_lexer": "ipython3",
   "version": "3.9.18"
  }
 },
 "nbformat": 4,
 "nbformat_minor": 5
}
