{
 "cells": [
  {
   "cell_type": "code",
   "execution_count": 1,
   "id": "07ec4821-ca12-41b9-aade-1d8b90716cde",
   "metadata": {},
   "outputs": [],
   "source": [
    "import sympy as sp"
   ]
  },
  {
   "cell_type": "code",
   "execution_count": 15,
   "id": "e69f58f5-20c5-4dcd-ac1b-669a06e4fab2",
   "metadata": {},
   "outputs": [
    {
     "data": {
      "text/latex": [
       "$\\displaystyle \\left[\\begin{matrix}\\frac{\\sqrt{2} i}{2 \\sqrt{m}} & \\frac{\\sqrt{2} \\left(m - \\operatorname{V^{0}}{\\left(t \\right)}\\right)}{2 \\sqrt{m}}\\\\- \\frac{\\sqrt{2} i}{2 \\sqrt{m}} & \\frac{\\sqrt{2} \\left(m + \\operatorname{V^{0}}{\\left(t \\right)}\\right)}{2 \\sqrt{m}}\\end{matrix}\\right]$"
      ],
      "text/plain": [
       "Matrix([\n",
       "[ sqrt(2)*I/(2*sqrt(m)), sqrt(2)*(m - V^{0}(t))/(2*sqrt(m))],\n",
       "[-sqrt(2)*I/(2*sqrt(m)), sqrt(2)*(m + V^{0}(t))/(2*sqrt(m))]])"
      ]
     },
     "metadata": {},
     "output_type": "display_data"
    },
    {
     "data": {
      "text/latex": [
       "$\\displaystyle \\left[\\begin{matrix}- \\frac{\\sqrt{2} i \\left(m + \\operatorname{V^{0}}{\\left(t \\right)}\\right)}{2 \\sqrt{m}} & \\frac{\\sqrt{2} i \\left(m - \\operatorname{V^{0}}{\\left(t \\right)}\\right)}{2 \\sqrt{m}}\\\\\\frac{\\sqrt{2}}{2 \\sqrt{m}} & \\frac{\\sqrt{2}}{2 \\sqrt{m}}\\end{matrix}\\right]$"
      ],
      "text/plain": [
       "Matrix([\n",
       "[-sqrt(2)*I*(m + V^{0}(t))/(2*sqrt(m)), sqrt(2)*I*(m - V^{0}(t))/(2*sqrt(m))],\n",
       "[                  sqrt(2)/(2*sqrt(m)),                  sqrt(2)/(2*sqrt(m))]])"
      ]
     },
     "metadata": {},
     "output_type": "display_data"
    }
   ],
   "source": [
    "psi,dpsi_dt = sp.symbols(r'psi \\dot{\\psi}')\n",
    "phi1,phi2   = sp.symbols(r'\\phi_1 \\phi_2')\n",
    "m = sp.Symbol(r'm')\n",
    "\n",
    "t   = sp.Symbol(r't')\n",
    "V0  = sp.Function(r'V^{0}')(t)\n",
    "# V   = sp.Function(r'\\bf{V}')(t)\n",
    "pV2 = sp.Symbol(r'(p-V)^2')\n",
    "\n",
    "A = 1/sp.sqrt(2*m)*sp.Matrix([\n",
    "    [sp.I,-V0+m],\n",
    "    [-sp.I,V0+m]\n",
    "])\n",
    "display(A)\n",
    "\n",
    "Ainv = A.inv().applyfunc(sp.simplify)\n",
    "display(Ainv)"
   ]
  },
  {
   "cell_type": "code",
   "execution_count": 16,
   "id": "5a1db00c-a4d9-4771-8b2a-ee86e0174fc1",
   "metadata": {},
   "outputs": [
    {
     "data": {
      "text/latex": [
       "$\\displaystyle \\left[\\begin{matrix}\\frac{\\sqrt{2} \\left(i \\dot{\\psi} + \\psi \\left(m - \\operatorname{V^{0}}{\\left(t \\right)}\\right)\\right)}{2 \\sqrt{m}}\\\\\\frac{\\sqrt{2} \\left(- i \\dot{\\psi} + \\psi \\left(m + \\operatorname{V^{0}}{\\left(t \\right)}\\right)\\right)}{2 \\sqrt{m}}\\end{matrix}\\right]$"
      ],
      "text/plain": [
       "Matrix([\n",
       "[ sqrt(2)*(I*\\dot{\\psi} + psi*(m - V^{0}(t)))/(2*sqrt(m))],\n",
       "[sqrt(2)*(-I*\\dot{\\psi} + psi*(m + V^{0}(t)))/(2*sqrt(m))]])"
      ]
     },
     "execution_count": 16,
     "metadata": {},
     "output_type": "execute_result"
    }
   ],
   "source": [
    "Psi = sp.Matrix([dpsi_dt,psi])\n",
    "Phi = sp.Matrix([phi1,phi2])\n",
    "(A*Psi).applyfunc(sp.simplify)"
   ]
  },
  {
   "cell_type": "code",
   "execution_count": 14,
   "id": "7f9bd8e9-c99e-4670-b5d0-081c8e32320b",
   "metadata": {},
   "outputs": [
    {
     "data": {
      "text/latex": [
       "$\\displaystyle \\left[\\begin{matrix}\\frac{\\bf{p}^{2} - 2 \\bf{p} \\bf{V}{\\left(t \\right)} + 2 m^{2} - i m \\operatorname{V^{0}}{\\left(t \\right)} - i \\left(\\operatorname{V^{0}}\\right)^{2}{\\left(t \\right)} + \\bf{V}^{2}{\\left(t \\right)} - 3 i \\frac{d}{d t} \\operatorname{V^{0}}{\\left(t \\right)}}{2 m} & \\frac{\\bf{p}^{2} - 2 \\bf{p} \\bf{V}{\\left(t \\right)} + m \\left(2 + i\\right) \\operatorname{V^{0}}{\\left(t \\right)} - i \\left(\\operatorname{V^{0}}\\right)^{2}{\\left(t \\right)} + \\bf{V}^{2}{\\left(t \\right)} - 3 i \\frac{d}{d t} \\operatorname{V^{0}}{\\left(t \\right)}}{2 m}\\\\\\frac{- \\bf{p}^{2} + 2 \\bf{p} \\bf{V}{\\left(t \\right)} + m \\left(2 + i\\right) \\operatorname{V^{0}}{\\left(t \\right)} + i \\left(\\operatorname{V^{0}}\\right)^{2}{\\left(t \\right)} - \\bf{V}^{2}{\\left(t \\right)} + 3 i \\frac{d}{d t} \\operatorname{V^{0}}{\\left(t \\right)}}{2 m} & \\frac{- \\bf{p}^{2} + 2 \\bf{p} \\bf{V}{\\left(t \\right)} - 2 m^{2} - i m \\operatorname{V^{0}}{\\left(t \\right)} + i \\left(\\operatorname{V^{0}}\\right)^{2}{\\left(t \\right)} - \\bf{V}^{2}{\\left(t \\right)} + 3 i \\frac{d}{d t} \\operatorname{V^{0}}{\\left(t \\right)}}{2 m}\\end{matrix}\\right]$"
      ],
      "text/plain": [
       "Matrix([\n",
       "[(\\bf{p}**2 - 2*\\bf{p}*\\bf{V}(t) + 2*m**2 - I*m*V^{0}(t) - I*V^{0}(t)**2 + \\bf{V}(t)**2 - 3*I*Derivative(V^{0}(t), t))/(2*m),     (\\bf{p}**2 - 2*\\bf{p}*\\bf{V}(t) + m*(2 + I)*V^{0}(t) - I*V^{0}(t)**2 + \\bf{V}(t)**2 - 3*I*Derivative(V^{0}(t), t))/(2*m)],\n",
       "[  (-\\bf{p}**2 + 2*\\bf{p}*\\bf{V}(t) + m*(2 + I)*V^{0}(t) + I*V^{0}(t)**2 - \\bf{V}(t)**2 + 3*I*Derivative(V^{0}(t), t))/(2*m), (-\\bf{p}**2 + 2*\\bf{p}*\\bf{V}(t) - 2*m**2 - I*m*V^{0}(t) + I*V^{0}(t)**2 - \\bf{V}(t)**2 + 3*I*Derivative(V^{0}(t), t))/(2*m)]])"
      ]
     },
     "execution_count": 14,
     "metadata": {},
     "output_type": "execute_result"
    }
   ],
   "source": [
    "Hpsi = sp.I*sp.Matrix([\n",
    "    [-2*sp.I*V0,-(pV2+m**2+sp.I*V0.diff(t)-V0**2)],\n",
    "    [1,0]\n",
    "])\n",
    "Hphi = A*(-sp.I*Ainv.diff(t) + Hpsi*Ainv)\n",
    "Hphi.applyfunc(sp.simplify)"
   ]
  },
  {
   "cell_type": "code",
   "execution_count": null,
   "id": "fbd6dd7f-821b-4055-a38e-0154db3e9779",
   "metadata": {},
   "outputs": [],
   "source": [
    "nabla = sp.Symbol(r'\\nabla')\n",
    "H_psi = sp.I*sp.Matrix([[0,nabla**2-m**2],[1,0]])\n",
    "H_phi = A*H_psi*Ainv\n",
    "H_phi.applyfunc(sp.simplify)"
   ]
  },
  {
   "cell_type": "code",
   "execution_count": null,
   "id": "20ef6b70-ab9e-4888-886e-012bd6b92373",
   "metadata": {},
   "outputs": [],
   "source": []
  }
 ],
 "metadata": {
  "kernelspec": {
   "display_name": "Python 3 (ipykernel)",
   "language": "python",
   "name": "python3"
  },
  "language_info": {
   "codemirror_mode": {
    "name": "ipython",
    "version": 3
   },
   "file_extension": ".py",
   "mimetype": "text/x-python",
   "name": "python",
   "nbconvert_exporter": "python",
   "pygments_lexer": "ipython3",
   "version": "3.9.18"
  }
 },
 "nbformat": 4,
 "nbformat_minor": 5
}
