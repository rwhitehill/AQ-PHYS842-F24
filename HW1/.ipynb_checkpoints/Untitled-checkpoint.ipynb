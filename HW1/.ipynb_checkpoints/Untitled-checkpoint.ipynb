{
 "cells": [
  {
   "cell_type": "code",
   "execution_count": 1,
   "id": "c1a7c578-c401-49d3-8a77-534e1e41cf52",
   "metadata": {},
   "outputs": [],
   "source": [
    "import sympy as sp"
   ]
  },
  {
   "cell_type": "code",
   "execution_count": 48,
   "id": "cda55217-e395-443c-906c-cb56ad452d30",
   "metadata": {},
   "outputs": [],
   "source": [
    "th = sp.Symbol(r'\\theta',real=True)\n",
    "cos = sp.cos(th)\n",
    "sin = sp.sin(th)\n",
    "\n",
    "R = sp.Matrix([\n",
    "    [1,0,0,0],\n",
    "    [0,cos,0,sin],\n",
    "    [0,0,1,0],\n",
    "    [0,-sin,0,cos]\n",
    "])\n",
    "T = sp.Matrix([\n",
    "    [1/sp.sqrt(2),0,0,1/sp.sqrt(2)],\n",
    "    [1/sp.sqrt(2),0,0,-1/sp.sqrt(2)],\n",
    "    [0,1,0,0],\n",
    "    [0,0,1,0]\n",
    "])\n",
    "T_inv = T.inv()\n",
    "\n",
    "Rbar = T*R*T_inv"
   ]
  },
  {
   "cell_type": "code",
   "execution_count": 49,
   "id": "db73d082-3109-4bf1-9194-763c2351bc69",
   "metadata": {},
   "outputs": [
    {
     "data": {
      "text/latex": [
       "$\\displaystyle \\left[\\begin{matrix}\\frac{\\cos{\\left(\\theta \\right)}}{2} + \\frac{1}{2} & \\frac{1}{2} - \\frac{\\cos{\\left(\\theta \\right)}}{2} & \\frac{\\sqrt{2} \\sin{\\left(\\theta \\right)}}{2} & 0\\\\\\frac{1}{2} - \\frac{\\cos{\\left(\\theta \\right)}}{2} & \\frac{\\cos{\\left(\\theta \\right)}}{2} + \\frac{1}{2} & - \\frac{\\sqrt{2} \\sin{\\left(\\theta \\right)}}{2} & 0\\\\- \\frac{\\sqrt{2} \\sin{\\left(\\theta \\right)}}{2} & \\frac{\\sqrt{2} \\sin{\\left(\\theta \\right)}}{2} & \\cos{\\left(\\theta \\right)} & 0\\\\0 & 0 & 0 & 1\\end{matrix}\\right]$"
      ],
      "text/plain": [
       "Matrix([\n",
       "[   cos(\\theta)/2 + 1/2,   1/2 - cos(\\theta)/2,  sqrt(2)*sin(\\theta)/2, 0],\n",
       "[   1/2 - cos(\\theta)/2,   cos(\\theta)/2 + 1/2, -sqrt(2)*sin(\\theta)/2, 0],\n",
       "[-sqrt(2)*sin(\\theta)/2, sqrt(2)*sin(\\theta)/2,            cos(\\theta), 0],\n",
       "[                     0,                     0,                      0, 1]])"
      ]
     },
     "execution_count": 49,
     "metadata": {},
     "output_type": "execute_result"
    }
   ],
   "source": [
    "Rbar.inv().applyfunc(sp.simplify)"
   ]
  },
  {
   "cell_type": "code",
   "execution_count": 50,
   "id": "396cb4e9-5cff-457e-a0e6-927f14a00b1d",
   "metadata": {},
   "outputs": [
    {
     "data": {
      "text/latex": [
       "$\\displaystyle \\frac{\\sqrt{2} \\left(V^{0} |\\vec{V}| + \\left(V^{x}\\right)^{2} + \\left(V^{z}\\right)^{2}\\right)}{2 |\\vec{V}|}$"
      ],
      "text/plain": [
       "sqrt(2)*(V^0*|\\vec{V}| + V^x**2 + V^z**2)/(2*|\\vec{V}|)"
      ]
     },
     "metadata": {},
     "output_type": "display_data"
    },
    {
     "data": {
      "text/latex": [
       "$\\displaystyle \\frac{\\sqrt{2} \\left(V^{0} |\\vec{V}| - \\left(V^{x}\\right)^{2} - \\left(V^{z}\\right)^{2}\\right)}{2 |\\vec{V}|}$"
      ],
      "text/plain": [
       "sqrt(2)*(V^0*|\\vec{V}| - V^x**2 - V^z**2)/(2*|\\vec{V}|)"
      ]
     },
     "metadata": {},
     "output_type": "display_data"
    }
   ],
   "source": [
    "V0,Vx,Vz = sp.symbols(r'V^0 V^x V^z',real=True)\n",
    "Vmag = sp.Symbol(r'|\\vec{V}|',real=True,positive=True)\n",
    "V = sp.Matrix([V0,Vx,0,Vz])\n",
    "# Vmag = sp.sqrt(Vx**2+Vz**2)\n",
    "cos_ = Vz/Vmag\n",
    "sin_ = Vx/Vmag\n",
    "\n",
    "Rbar_ = Rbar.subs(cos,cos_).subs(sin,-sin_)\n",
    "V1 = Rbar_*T*V\n",
    "V1 = V1.applyfunc(sp.simplify)\n",
    "display(V1[0].simplify())\n",
    "display(V1[1].simplify())\n",
    "\n",
    "e_dy = sp.sqrt(10*V1[1]/V1[0])\n",
    "\n",
    "Lambda = sp.Matrix([\n",
    "    [e_dy,0,0,0],\n",
    "    [0,1/e_dy,0,0],\n",
    "    [0,0,1,0],\n",
    "    [0,0,0,1]\n",
    "])\n",
    "display(Lambda)\n",
    "\n",
    "V2 = Lambda*V1\n",
    "V2 = V2#.applyfunc(sp.simplify)\n"
   ]
  },
  {
   "cell_type": "code",
   "execution_count": 51,
   "id": "e9d2df79-ed92-4397-8c3e-3f81725f6143",
   "metadata": {},
   "outputs": [
    {
     "data": {
      "text/latex": [
       "$\\displaystyle \\left[\\begin{matrix}\\frac{\\sqrt{10} \\sqrt{\\frac{V^{0} |\\vec{V}| - \\left(V^{x}\\right)^{2} - \\left(V^{z}\\right)^{2}}{V^{0} |\\vec{V}| + \\left(V^{x}\\right)^{2} + \\left(V^{z}\\right)^{2}}} \\left(V^{z} + |\\vec{V}|\\right)}{2 |\\vec{V}|} & \\frac{\\sqrt{10} \\sqrt{\\frac{V^{0} |\\vec{V}| - \\left(V^{x}\\right)^{2} - \\left(V^{z}\\right)^{2}}{V^{0} |\\vec{V}| + \\left(V^{x}\\right)^{2} + \\left(V^{z}\\right)^{2}}} \\left(- V^{z} + |\\vec{V}|\\right)}{2 |\\vec{V}|} & \\frac{\\sqrt{5} V^{x} \\sqrt{\\frac{V^{0} |\\vec{V}| - \\left(V^{x}\\right)^{2} - \\left(V^{z}\\right)^{2}}{V^{0} |\\vec{V}| + \\left(V^{x}\\right)^{2} + \\left(V^{z}\\right)^{2}}}}{|\\vec{V}|} & 0\\\\\\frac{\\sqrt{10} \\left(- V^{z} + |\\vec{V}|\\right)}{20 |\\vec{V}| \\sqrt{\\frac{V^{0} |\\vec{V}| - \\left(V^{x}\\right)^{2} - \\left(V^{z}\\right)^{2}}{V^{0} |\\vec{V}| + \\left(V^{x}\\right)^{2} + \\left(V^{z}\\right)^{2}}}} & \\frac{\\sqrt{10} \\left(V^{z} + |\\vec{V}|\\right)}{20 |\\vec{V}| \\sqrt{\\frac{V^{0} |\\vec{V}| - \\left(V^{x}\\right)^{2} - \\left(V^{z}\\right)^{2}}{V^{0} |\\vec{V}| + \\left(V^{x}\\right)^{2} + \\left(V^{z}\\right)^{2}}}} & - \\frac{\\sqrt{5} V^{x}}{10 |\\vec{V}| \\sqrt{- \\frac{- V^{0} |\\vec{V}| + \\left(V^{x}\\right)^{2} + \\left(V^{z}\\right)^{2}}{V^{0} |\\vec{V}| + \\left(V^{x}\\right)^{2} + \\left(V^{z}\\right)^{2}}}} & 0\\\\- \\frac{\\sqrt{2} V^{x}}{2 |\\vec{V}|} & \\frac{\\sqrt{2} V^{x}}{2 |\\vec{V}|} & \\frac{V^{z}}{|\\vec{V}|} & 0\\\\0 & 0 & 0 & 1\\end{matrix}\\right]$"
      ],
      "text/plain": [
       "Matrix([\n",
       "[  sqrt(10)*sqrt((V^0*|\\vec{V}| - V^x**2 - V^z**2)/(V^0*|\\vec{V}| + V^x**2 + V^z**2))*(V^z + |\\vec{V}|)/(2*|\\vec{V}|), sqrt(10)*sqrt((V^0*|\\vec{V}| - V^x**2 - V^z**2)/(V^0*|\\vec{V}| + V^x**2 + V^z**2))*(-V^z + |\\vec{V}|)/(2*|\\vec{V}|),         sqrt(5)*V^x*sqrt((V^0*|\\vec{V}| - V^x**2 - V^z**2)/(V^0*|\\vec{V}| + V^x**2 + V^z**2))/|\\vec{V}|, 0],\n",
       "[sqrt(10)*(-V^z + |\\vec{V}|)/(20*|\\vec{V}|*sqrt((V^0*|\\vec{V}| - V^x**2 - V^z**2)/(V^0*|\\vec{V}| + V^x**2 + V^z**2))), sqrt(10)*(V^z + |\\vec{V}|)/(20*|\\vec{V}|*sqrt((V^0*|\\vec{V}| - V^x**2 - V^z**2)/(V^0*|\\vec{V}| + V^x**2 + V^z**2))), -sqrt(5)*V^x/(10*|\\vec{V}|*sqrt(-(-V^0*|\\vec{V}| + V^x**2 + V^z**2)/(V^0*|\\vec{V}| + V^x**2 + V^z**2))), 0],\n",
       "[                                                                                          -sqrt(2)*V^x/(2*|\\vec{V}|),                                                                                           sqrt(2)*V^x/(2*|\\vec{V}|),                                                                                           V^z/|\\vec{V}|, 0],\n",
       "[                                                                                                                   0,                                                                                                                   0,                                                                                                       0, 1]])"
      ]
     },
     "execution_count": 51,
     "metadata": {},
     "output_type": "execute_result"
    }
   ],
   "source": [
    "T = Lambda*Rbar_\n",
    "T.applyfunc(sp.simplify)"
   ]
  },
  {
   "cell_type": "code",
   "execution_count": null,
   "id": "02f94d90-61b8-4f45-9fd5-fa7f9c5ad5bb",
   "metadata": {},
   "outputs": [],
   "source": []
  }
 ],
 "metadata": {
  "kernelspec": {
   "display_name": "Python 3 (ipykernel)",
   "language": "python",
   "name": "python3"
  },
  "language_info": {
   "codemirror_mode": {
    "name": "ipython",
    "version": 3
   },
   "file_extension": ".py",
   "mimetype": "text/x-python",
   "name": "python",
   "nbconvert_exporter": "python",
   "pygments_lexer": "ipython3",
   "version": "3.9.18"
  }
 },
 "nbformat": 4,
 "nbformat_minor": 5
}
