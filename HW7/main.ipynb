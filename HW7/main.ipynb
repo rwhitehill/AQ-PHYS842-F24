{
 "cells": [
  {
   "cell_type": "code",
   "execution_count": 1,
   "id": "d3ad76df-0d5f-41dc-9c38-1a325b979fbf",
   "metadata": {},
   "outputs": [],
   "source": [
    "import sympy as sp\n",
    "import numpy as np\n",
    "from scipy.integrate import quad\n",
    "import matplotlib.pyplot as plt\n",
    "plt.rcParams.update({\n",
    "    'text.latex.preamble': r'\\usepackage{amsmath}',\n",
    "    'text.usetex': True,\n",
    "    'font.family': 'sans-serif',\n",
    "    'font.sans-serif': ['Helvetica']\n",
    "})"
   ]
  },
  {
   "cell_type": "code",
   "execution_count": 87,
   "id": "d95185cf-eae6-46e8-ae49-e7cea14e2cdc",
   "metadata": {},
   "outputs": [],
   "source": [
    "x = sp.symbols(r'x',real=True)\n",
    "sig = sp.symbols(r'\\sigma',real=True,positive=True)\n",
    "a,c = sp.symbols(r'a c',real=True)"
   ]
  },
  {
   "cell_type": "code",
   "execution_count": 88,
   "id": "1cd580a4-42ae-417b-b657-e09d30f46fb9",
   "metadata": {},
   "outputs": [
    {
     "data": {
      "text/latex": [
       "$\\displaystyle \\frac{e^{- \\frac{\\left(- a + x\\right)^{2}}{2 \\sigma^{2}}}}{\\sqrt[4]{\\pi} \\sqrt{\\sigma}}$"
      ],
      "text/plain": [
       "exp(-(-a + x)**2/(2*\\sigma**2))/(pi**(1/4)*sqrt(\\sigma))"
      ]
     },
     "execution_count": 88,
     "metadata": {},
     "output_type": "execute_result"
    }
   ],
   "source": [
    "fx = sp.exp(-(x-a)**2/2/sig**2)\n",
    "N  = 1/sp.sqrt(sp.integrate(fx**2,(x,-sp.oo,sp.oo)))\n",
    "fx *= N\n",
    "fx"
   ]
  },
  {
   "cell_type": "code",
   "execution_count": 90,
   "id": "3528c1cf-7761-47a4-af46-425d9492221c",
   "metadata": {},
   "outputs": [
    {
     "data": {
      "text/latex": [
       "$\\displaystyle e^{- \\left|{c - x}\\right|}$"
      ],
      "text/plain": [
       "exp(-Abs(c - x))"
      ]
     },
     "execution_count": 90,
     "metadata": {},
     "output_type": "execute_result"
    }
   ],
   "source": [
    "Txxc = sp.exp(-sp.Abs(x-c))\n",
    "Txxc"
   ]
  },
  {
   "cell_type": "code",
   "execution_count": 91,
   "id": "fd4191c0-6261-4ed5-bd0a-ce95da639312",
   "metadata": {},
   "outputs": [
    {
     "data": {
      "text/latex": [
       "$\\displaystyle 2$"
      ],
      "text/plain": [
       "2"
      ]
     },
     "execution_count": 91,
     "metadata": {},
     "output_type": "execute_result"
    }
   ],
   "source": [
    "Txxc.subs(x,0).integrate((c,-sp.oo,sp.oo))"
   ]
  },
  {
   "cell_type": "code",
   "execution_count": 92,
   "id": "d61d5f9c-eb8b-4e15-9b6f-518e868dd132",
   "metadata": {},
   "outputs": [
    {
     "data": {
      "text/latex": [
       "$\\displaystyle \\frac{e^{- \\frac{\\left(- a + x\\right)^{2}}{\\sigma^{2}}} e^{- \\left|{c - x}\\right|}}{\\sqrt{\\pi} \\sigma}$"
      ],
      "text/plain": [
       "exp(-(-a + x)**2/\\sigma**2)*exp(-Abs(c - x))/(sqrt(pi)*\\sigma)"
      ]
     },
     "execution_count": 92,
     "metadata": {},
     "output_type": "execute_result"
    }
   ],
   "source": [
    "integrand = fx**2*Txxc\n",
    "integrand"
   ]
  },
  {
   "cell_type": "code",
   "execution_count": 96,
   "id": "2334c9e8-a2b1-4a0a-83eb-763e6365d60a",
   "metadata": {},
   "outputs": [],
   "source": [
    "I = integrand.subs(a,0).integrate((x,-sp.oo,sp.oo)).simplify()#.integrate((c,-sp.oo,sp.oo))#.subs(sig1,1/10000).subs(sig2,1)\n",
    "I_f = sp.lambdify((c,sig),I,'numpy')"
   ]
  },
  {
   "cell_type": "code",
   "execution_count": 97,
   "id": "68cfe15e-27d2-4aea-b898-0119254e8571",
   "metadata": {},
   "outputs": [
    {
     "data": {
      "text/latex": [
       "$\\displaystyle \\frac{\\left(- e^{2 c} \\operatorname{erf}{\\left(\\frac{\\sigma^{2} + 2 c}{2 \\sigma} \\right)} + e^{2 c} - \\operatorname{erf}{\\left(\\frac{\\sigma^{2} - 2 c}{2 \\sigma} \\right)} + 1\\right) e^{\\frac{\\sigma^{2}}{4} - c}}{2}$"
      ],
      "text/plain": [
       "(-exp(2*c)*erf((\\sigma**2 + 2*c)/(2*\\sigma)) + exp(2*c) - erf((\\sigma**2 - 2*c)/(2*\\sigma)) + 1)*exp(\\sigma**2/4 - c)/2"
      ]
     },
     "execution_count": 97,
     "metadata": {},
     "output_type": "execute_result"
    }
   ],
   "source": [
    "I#.simplify().subs(c,0).evalf()"
   ]
  },
  {
   "cell_type": "code",
   "execution_count": 111,
   "id": "3bea6d12-eee8-4c37-a670-7d567eae3b02",
   "metadata": {},
   "outputs": [],
   "source": [
    "def I1(sigma):\n",
    "    return quad(I_f,-100,100,args=(sigma,))"
   ]
  },
  {
   "cell_type": "code",
   "execution_count": 124,
   "id": "354f2a96-da3e-484b-9a78-6980cee0f8b5",
   "metadata": {},
   "outputs": [
    {
     "data": {
      "text/plain": [
       "(1.9999999949962834, 8.393679998527161e-09)"
      ]
     },
     "execution_count": 124,
     "metadata": {},
     "output_type": "execute_result"
    }
   ],
   "source": [
    "I1(2e-9)"
   ]
  },
  {
   "cell_type": "code",
   "execution_count": 157,
   "id": "de5b919c-5856-47d3-8228-4c91afe9c861",
   "metadata": {},
   "outputs": [
    {
     "name": "stderr",
     "output_type": "stream",
     "text": [
      "/var/folders/_b/29vq0z955j77svdys97cr5p40000gn/T/ipykernel_28826/584152733.py:2: IntegrationWarning: The maximum number of subdivisions (50) has been achieved.\n",
      "  If increasing the limit yields no improvement it is advised to analyze \n",
      "  the integrand in order to determine the difficulties.  If the position of a \n",
      "  local difficulty can be determined (singularity, discontinuity) one will \n",
      "  probably gain from splitting up the interval and calling the integrator \n",
      "  on the subranges.  Perhaps a special-purpose integrator should be used.\n",
      "  return quad(I_f,-100,100,args=(sigma,))\n"
     ]
    }
   ],
   "source": [
    "sigma = np.linspace(0.1,30,300)\n",
    "temp  = np.array([I1(_)[0] for _ in sigma])"
   ]
  },
  {
   "cell_type": "code",
   "execution_count": 168,
   "id": "3adc6ccb-ba01-41bb-9303-7e24a435f217",
   "metadata": {},
   "outputs": [
    {
     "data": {
      "image/png": "[encoded data removed]",
      "text/plain": [
       "<Figure size 504x360 with 1 Axes>"
      ]
     },
     "metadata": {
      "needs_background": "light"
     },
     "output_type": "display_data"
    }
   ],
   "source": [
    "nrows,ncols = 1,1\n",
    "fig,ax = plt.subplots(nrows=nrows,ncols=ncols,figsize=(7*ncols,5*nrows))\n",
    "\n",
    "ax.plot(sigma,temp,'r-',label=r'$\\int {\\rm d}{c} \\int {\\rm d}{x} \\, T(x,x,c)$')\n",
    "ax.axhline(2,color='k',ls='-.',label=r'$\\int {\\rm d}{c} T(0,0,c)$')\n",
    "\n",
    "ax.tick_params(axis='both',which='major',direction='in',labelsize=20)\n",
    "ax.set_xlabel(r'$\\sigma$',size=30)\n",
    "ax.set_ylim(-0.1,2.1)\n",
    "ax.legend(loc='center right',fontsize=20,frameon=False)\n",
    "\n",
    "plt.tight_layout()\n",
    "plt.show()\n",
    "fig.savefig(r'prob1.pdf',bbox_inches='tight')"
   ]
  },
  {
   "cell_type": "code",
   "execution_count": 161,
   "id": "055ffe58-3d67-4c62-a9ae-48614b99593c",
   "metadata": {},
   "outputs": [],
   "source": [
    "def f(x,sigma=1):\n",
    "    return np.exp(-x**2/2/sigma**2)/(np.pi*sigma**2)**(1/4)"
   ]
  },
  {
   "cell_type": "code",
   "execution_count": 174,
   "id": "e4c3e0ee-5f28-4857-91ea-f6d333024b9a",
   "metadata": {},
   "outputs": [
    {
     "data": {
      "image/png": "[encoded data removed]",
      "text/plain": [
       "<Figure size 432x288 with 1 Axes>"
      ]
     },
     "metadata": {
      "needs_background": "light"
     },
     "output_type": "display_data"
    }
   ],
   "source": [
    "x = np.linspace(-5,5,201)\n",
    "c = 0\n",
    "plt.plot(x,f(x))\n",
    "plt.plot(x,np.exp(-np.abs(x-c)))\n",
    "plt.show()"
   ]
  },
  {
   "cell_type": "code",
   "execution_count": null,
   "id": "36494bf5-a604-4223-be67-b86ddfcef448",
   "metadata": {},
   "outputs": [],
   "source": []
  },
  {
   "cell_type": "code",
   "execution_count": null,
   "id": "1f376fc7-6fea-4e40-bb4d-16067fd7dd29",
   "metadata": {},
   "outputs": [],
   "source": []
  }
 ],
 "metadata": {
  "kernelspec": {
   "display_name": "Python 3 (ipykernel)",
   "language": "python",
   "name": "python3"
  },
  "language_info": {
   "codemirror_mode": {
    "name": "ipython",
    "version": 3
   },
   "file_extension": ".py",
   "mimetype": "text/x-python",
   "name": "python",
   "nbconvert_exporter": "python",
   "pygments_lexer": "ipython3",
   "version": "3.9.18"
  }
 },
 "nbformat": 4,
 "nbformat_minor": 5
}
